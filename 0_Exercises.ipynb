{
 "cells": [
  {
   "cell_type": "markdown",
   "id": "529d91ae",
   "metadata": {
    "tags": []
   },
   "source": [
    "# Exercise 00\n",
    "Write a bit of code that prints _Introduction to Programming_ to the console and execute the cell"
   ]
  },
  {
   "cell_type": "code",
   "execution_count": 177,
   "id": "98711beb",
   "metadata": {},
   "outputs": [
    {
     "name": "stdout",
     "output_type": "stream",
     "text": [
      "Introduction to Programming\n"
     ]
    }
   ],
   "source": [
    "print(\"Introduction to Programming\")"
   ]
  },
  {
   "cell_type": "markdown",
   "id": "63ad5023",
   "metadata": {},
   "source": [
    "-----------------------------------------------------------------------------\n",
    "# Exercise 01\n",
    "Hello World is traditionally the first program anyone writes. It is\n",
    "very simple and the only thing it should do is print Hello World! to the\n",
    "terminal window.\n",
    "Create a file called HelloWorld.py and edit the contents so it prints Hello World! to the terminal and execute it using the command line."
   ]
  },
  {
   "cell_type": "code",
   "execution_count": 184,
   "id": "26c0bd71-dfc5-48b2-8390-47189690b51c",
   "metadata": {},
   "outputs": [
    {
     "name": "stdout",
     "output_type": "stream",
     "text": [
      "myName\n"
     ]
    }
   ],
   "source": [
    "myName=\"Hello world\"\n",
    "print(f'myName')"
   ]
  },
  {
   "cell_type": "markdown",
   "id": "a4a7c4c2",
   "metadata": {},
   "source": [
    "-----------------------------------------------------------------------------\n",
    "# Exercise 02\n",
    "Write some code to print your name, email, and age on separate lines. For each element first assign it to a variable and use the variable to print. \n",
    "\n",
    "Bonus: try to create the print statement for all variable in one line of code. (hint: '\\n' is the character for a new line)"
   ]
  },
  {
   "cell_type": "code",
   "execution_count": null,
   "id": "fc8fface",
   "metadata": {},
   "outputs": [],
   "source": [
    "myName = \"Wangyongchun\" #引号告诉Python，这是一个字符串。如果没有引号，Python会认为它是一个变量或表达式，因此会报错。\n",
    "myEmail = \"ucbv017@ucl.ac.uk\"\n",
    "myAge = 25\n",
    "\n",
    "print(f\"My name is {myName}.\\nMy email is {myEmail}.\\nMy age is {myAge}.\")#f tells Python to replace {myName} with the value of the variable myName\n",
    "print(\"\\n\")\n",
    "print(\"My name is format（{myName}）.\\nMy email is format（{myEmail}）.\\nMy age is format（{myAge}）.\") #format（{myName}）"
   ]
  },
  {
   "cell_type": "markdown",
   "id": "0dd1c1d1",
   "metadata": {},
   "source": [
    "-----------------------------------------------------------------------------\n",
    "# Exercise 03\n",
    "Print the numbers 0, 178, -21, 2938 divided by 49, 436 multiplied with 9948 and 12 to the power of 20\n",
    "\n",
    "(Hint: Look up the documentation of basic arithmetic operators)"
   ]
  },
  {
   "cell_type": "code",
   "execution_count": null,
   "id": "f3d5d009",
   "metadata": {},
   "outputs": [],
   "source": [
    "#int a=0具体来说，Python不需要在定义变量时指定其类型,不需要使用 int 这样的类型声明，只需直接赋值即可\n",
    "a=0\n",
    "print(a)\n",
    "b=178\n",
    "print(b)\n",
    "c=-21\n",
    "print(c)\n",
    "d=2938/49\n",
    "print(d)\n",
    "e=436*9948\n",
    "print(e)\n",
    "f=12**20\n",
    "print(f)\n"
   ]
  },
  {
   "cell_type": "markdown",
   "id": "1f151455",
   "metadata": {},
   "source": [
    "-----------------------------------------------------------------------------\n",
    "# Exercise 04\n",
    "Print sin(200), cos(100), tan($\\pi$/4)\n",
    "\n",
    "(Hint: Look up for how to use trigonometric function, and how to get the value of $\\pi$.)"
   ]
  },
  {
   "cell_type": "code",
   "execution_count": null,
   "id": "d0e37690",
   "metadata": {},
   "outputs": [],
   "source": [
    "#使用 import math 是必需的，才能在Python中调用数学模块中的函数，如 math.sin()\n",
    "import math #import math：导入数学模块。\n",
    "result=math.sin(200)\n",
    "print(result)\n",
    "result2=math.cos(100)\n",
    "print(result2)\n",
    "result3=math.tan(math.pi/4)\n",
    "print(result3)\n",
    "\n"
   ]
  },
  {
   "cell_type": "markdown",
   "id": "9d026820",
   "metadata": {},
   "source": [
    "-----------------------------------------------------------------------------\n",
    "# Exercise 05\n",
    "Write a program to read your first and last names from the console seperately, and then print them on the console together, separated by a space."
   ]
  },
  {
   "cell_type": "code",
   "execution_count": null,
   "id": "4c7217e0",
   "metadata": {},
   "outputs": [],
   "source": [
    "first_name=input(\"Enter your first name\") # firstname 是一个合法的变量名，尽管通常建议使用下划线来提高可读性，例如 first_name\\firstName\n",
    "\n",
    "last_name=input(\"Enter your last name\")\n",
    "\n",
    "print(first_name+\" \"+last_name)\n",
    "print(f\"{first_name} {last_name}\")\n",
    "\n",
    "first_name2=input(\"Enter your first name\")\n",
    "\n",
    "last_name2=input(\"Enter your last name\")\n",
    "\n",
    "print(first_name+\" \"+last_name2) #使用 + 进行字符串拼接\n",
    "print(f\"{first_name2} {last_name2}\") ## 使用丝锥格式化\n",
    "print(\"{} {}\".format(first_name2,last_name2))# 使用 丝锥.format() 方法\n",
    "\n",
    "\n",
    "print(\"My name is {} {}\".format(first_name2,last_name2))\n",
    "#在使用 丝锥.format() 方法时，{} 是用于占位的，而具体的变量名在 format() 的参数中给出。这样可以让代码更加简洁，避免重复书写变量名\n",
    "\n",
    "# × print(\"My name is {} {}\".format(first_name2,last_name2))\n",
    "# × print(\"My name is \"format({first_name2} {last_name2}).\")"
   ]
  },
  {
   "cell_type": "markdown",
   "id": "e83fa346",
   "metadata": {},
   "source": [
    "-----------------------------------------------------------------------------\n",
    "# Exercise 06\n",
    "Write a program that determines whether a number given as user input is positive or negative\n",
    " \n",
    "You will need to convert the console input from a string to a number first!"
   ]
  },
  {
   "cell_type": "code",
   "execution_count": 188,
   "id": "ecd924c2",
   "metadata": {},
   "outputs": [
    {
     "name": "stdin",
     "output_type": "stream",
     "text": [
      "Give a number to me 2\n"
     ]
    },
    {
     "name": "stdout",
     "output_type": "stream",
     "text": [
      "The number given by user is positive.\n"
     ]
    }
   ],
   "source": [
    "number=input(\"Give a number to me\")\n",
    "\n",
    "#使用 input() 函数时，用户输入的内容会被当作字符串处理。例如，输入 \"5\" 实际上是一个字符串，而不是数字\n",
    "\n",
    "number2=float(number)\n",
    "\n",
    "#在进行任何数值比较或计算之前，确保将输入字符串转换为适当的数字类型是非常重要的。因此，number2 = int(number) 这一行是必需的\n",
    "\n",
    "if number2>0:\n",
    "    print(\"The number given by user is positive.\")\n",
    "elif number2==0:\n",
    "    print(\"The number given by user is zero.\")\n",
    "else:\n",
    "    print(\"The number given by user is negative\")"
   ]
  },
  {
   "cell_type": "code",
   "execution_count": null,
   "id": "19bcb794-b971-421c-95c3-ddf866732089",
   "metadata": {},
   "outputs": [],
   "source": []
  },
  {
   "cell_type": "code",
   "execution_count": null,
   "id": "f243e931-9622-4776-9515-21b998438d42",
   "metadata": {},
   "outputs": [],
   "source": []
  },
  {
   "cell_type": "markdown",
   "id": "2a192596",
   "metadata": {},
   "source": [
    "-----------------------------------------------------------------------------\n",
    "# Exercise 07\n",
    "Write a program that picks a random number between 1-20 and makes the user guess until they get the number right. Then print a congratulations message\n",
    "- (Find out yourself how to generate a random integer)\n",
    "- Bonus: make the user choose the range within which they have to guess\n",
    "- Bonus: keep track of how many guesses were made and print this at the end"
   ]
  },
  {
   "cell_type": "code",
   "execution_count": null,
   "id": "70358dd3",
   "metadata": {},
   "outputs": [],
   "source": [
    "import random\n",
    "random_integer=random.randint(1,20)\n",
    "\n",
    "# ✔ print(random_integer)\n",
    "# x print('The random number is {}.format(random_integer).')\n",
    "# ✔ print('The random number is {}.'.format(random_interger))\n",
    "# ✔ print(f'The random number is {random_integer}.')\n",
    "\n",
    "user_input=input(\"Guess a number between 1-20\")\n",
    "number=float(user_input)\n",
    "\n",
    "if number==random_integer:\n",
    "    print('Congratulations!')\n",
    "else:\n",
    "    print('Sorry!')"
   ]
  },
  {
   "cell_type": "code",
   "execution_count": 187,
   "id": "b5c36134-d7ef-4f83-abc4-c2f064ef84a4",
   "metadata": {},
   "outputs": [
    {
     "name": "stdin",
     "output_type": "stream",
     "text": [
      "Guess the random number (between 1 and 10):  3\n"
     ]
    },
    {
     "name": "stdout",
     "output_type": "stream",
     "text": [
      "Sorry! The random number was 1.\n"
     ]
    }
   ],
   "source": [
    "# ✔ 另一个正确版本\n",
    "import random\n",
    "\n",
    "# 生成一个随机整数\n",
    "random_integer = random.randint(1, 10)\n",
    "\n",
    "# 用户输入\n",
    "number = float(input(\"Guess the random number (between 1 and 10): \"))\n",
    "\n",
    "# 比较输入的数字和随机生成的数字\n",
    "if number == random_integer:\n",
    "    print('Congratulations! You guessed it right!')\n",
    "else:\n",
    "    print(f'Sorry! The random number was {random_integer}.')\n"
   ]
  },
  {
   "cell_type": "code",
   "execution_count": null,
   "id": "06ef95fa-a8db-4dca-a301-c6854f3eaa05",
   "metadata": {},
   "outputs": [],
   "source": [
    "# Bonus: keep track of how many guesses were made and print this at the end\n",
    "# import random Ⅰ\n",
    "random_integer=random.randint(1,20)\n",
    "print(random_integer)\n",
    "\n",
    "user_input=input(\"Guess a number between 1-20\")\n",
    "number=float(user_input)\n",
    "\n",
    "while number != random_integer:\n",
    "    print('Sorry! You can try it again!')\n",
    "    number=float(input('Guess the number again'))\n",
    "print('Congratulations! You guessed it right!')"
   ]
  },
  {
   "cell_type": "code",
   "execution_count": 180,
   "id": "f71f73fb-d80e-4bfb-b846-b8edc17c8b52",
   "metadata": {},
   "outputs": [
    {
     "name": "stdin",
     "output_type": "stream",
     "text": [
      "Guess a number between 1-20:  8\n"
     ]
    },
    {
     "name": "stdout",
     "output_type": "stream",
     "text": [
      "Sorry! You can try it again!\n"
     ]
    },
    {
     "name": "stdin",
     "output_type": "stream",
     "text": [
      "Guess the number again:  5\n"
     ]
    },
    {
     "name": "stdout",
     "output_type": "stream",
     "text": [
      "Sorry! You can try it again!\n"
     ]
    },
    {
     "name": "stdin",
     "output_type": "stream",
     "text": [
      "Guess the number again:  3\n"
     ]
    },
    {
     "name": "stdout",
     "output_type": "stream",
     "text": [
      "Sorry! You can try it again!\n"
     ]
    },
    {
     "name": "stdin",
     "output_type": "stream",
     "text": [
      "Guess the number again:  7\n"
     ]
    },
    {
     "name": "stdout",
     "output_type": "stream",
     "text": [
      "Sorry! You can try it again!\n"
     ]
    },
    {
     "name": "stdin",
     "output_type": "stream",
     "text": [
      "Guess the number again:  9\n"
     ]
    },
    {
     "name": "stdout",
     "output_type": "stream",
     "text": [
      "Sorry! You can try it again!\n"
     ]
    },
    {
     "name": "stdin",
     "output_type": "stream",
     "text": [
      "Guess the number again:  8\n"
     ]
    },
    {
     "name": "stdout",
     "output_type": "stream",
     "text": [
      "Sorry! You can try it again!\n"
     ]
    },
    {
     "name": "stdin",
     "output_type": "stream",
     "text": [
      "Guess the number again:  7\n"
     ]
    },
    {
     "name": "stdout",
     "output_type": "stream",
     "text": [
      "Sorry! You can try it again!\n"
     ]
    },
    {
     "name": "stdin",
     "output_type": "stream",
     "text": [
      "Guess the number again:  6\n"
     ]
    },
    {
     "name": "stdout",
     "output_type": "stream",
     "text": [
      "Sorry! You can try it again!\n"
     ]
    },
    {
     "name": "stdin",
     "output_type": "stream",
     "text": [
      "Guess the number again:  5\n"
     ]
    },
    {
     "name": "stdout",
     "output_type": "stream",
     "text": [
      "Sorry! You can try it again!\n"
     ]
    },
    {
     "name": "stdin",
     "output_type": "stream",
     "text": [
      "Guess the number again:  4\n"
     ]
    },
    {
     "name": "stdout",
     "output_type": "stream",
     "text": [
      "Sorry! You can try it again!\n"
     ]
    },
    {
     "name": "stdin",
     "output_type": "stream",
     "text": [
      "Guess the number again:  3\n"
     ]
    },
    {
     "name": "stdout",
     "output_type": "stream",
     "text": [
      "Sorry! You can try it again!\n"
     ]
    },
    {
     "name": "stdin",
     "output_type": "stream",
     "text": [
      "Guess the number again:  2\n"
     ]
    },
    {
     "name": "stdout",
     "output_type": "stream",
     "text": [
      "Sorry! You can try it again!\n"
     ]
    },
    {
     "name": "stdin",
     "output_type": "stream",
     "text": [
      "Guess the number again:  1\n"
     ]
    },
    {
     "name": "stdout",
     "output_type": "stream",
     "text": [
      "Sorry! You can try it again!\n"
     ]
    },
    {
     "name": "stdin",
     "output_type": "stream",
     "text": [
      "Guess the number again:  11\n"
     ]
    },
    {
     "name": "stdout",
     "output_type": "stream",
     "text": [
      "Sorry! You can try it again!\n"
     ]
    },
    {
     "name": "stdin",
     "output_type": "stream",
     "text": [
      "Guess the number again:  12\n"
     ]
    },
    {
     "name": "stdout",
     "output_type": "stream",
     "text": [
      "Sorry! You can try it again!\n"
     ]
    },
    {
     "name": "stdin",
     "output_type": "stream",
     "text": [
      "Guess the number again:  13\n"
     ]
    },
    {
     "name": "stdout",
     "output_type": "stream",
     "text": [
      "Sorry! You can try it again!\n"
     ]
    },
    {
     "name": "stdin",
     "output_type": "stream",
     "text": [
      "Guess the number again:  15\n"
     ]
    },
    {
     "name": "stdout",
     "output_type": "stream",
     "text": [
      "Sorry! You can try it again!\n"
     ]
    },
    {
     "name": "stdin",
     "output_type": "stream",
     "text": [
      "Guess the number again:  14\n"
     ]
    },
    {
     "name": "stdout",
     "output_type": "stream",
     "text": [
      "Congratulations! You guessed it right!\n",
      "You have tried 18 times.\n"
     ]
    }
   ],
   "source": [
    "# Bonus: keep track of how many guesses were made and print this at the end\n",
    "import random\n",
    "\n",
    "random_integer = random.randint(1, 20) # 生成一个 1 到 20 之间的随机整数\n",
    "\n",
    "attempts_made=0\n",
    "\n",
    "number = float(input(\"Guess a number between 1-20: \"))# 提示用户输入\n",
    "\n",
    "while number != random_integer: # 当用户的猜测不等于随机生成的数字时，继续循环\n",
    "    print('Sorry! You can try it again!')\n",
    "    number = float(input(\"Guess the number again: \")) # 提示用户输入新猜测\n",
    "    attempts_made+=1\n",
    "print('Congratulations! You guessed it right!') # 当用户猜对时，退出循环并打印祝贺信息\n",
    "attempts_made+=1\n",
    "\n",
    "print(f\"You have tried {attempts_made} times.\")"
   ]
  },
  {
   "cell_type": "code",
   "execution_count": 189,
   "id": "d4dd5469-929e-4d57-ae5b-3ef7d3dde686",
   "metadata": {},
   "outputs": [
    {
     "name": "stdin",
     "output_type": "stream",
     "text": [
      "Tap the number to be the minimum of the range. 1\n"
     ]
    },
    {
     "ename": "TypeError",
     "evalue": "'str' object is not callable",
     "output_type": "error",
     "traceback": [
      "\u001b[1;31m---------------------------------------------------------------------------\u001b[0m",
      "\u001b[1;31mTypeError\u001b[0m                                 Traceback (most recent call last)",
      "Cell \u001b[1;32mIn[189], line 4\u001b[0m\n\u001b[0;32m      1\u001b[0m \u001b[38;5;66;03m### Bonus: make the user choose the range within which they have to guess\u001b[39;00m\n\u001b[0;32m      3\u001b[0m \u001b[38;5;28;01mimport\u001b[39;00m \u001b[38;5;21;01mrandom\u001b[39;00m\n\u001b[1;32m----> 4\u001b[0m min_number\u001b[38;5;241m=\u001b[39m\u001b[38;5;28mint\u001b[39m(\u001b[38;5;28minput\u001b[39m(\u001b[38;5;124m'\u001b[39m\u001b[38;5;124mTap the number to be the minimum of the range.\u001b[39m\u001b[38;5;124m'\u001b[39m))\n\u001b[0;32m      5\u001b[0m max_number\u001b[38;5;241m=\u001b[39m\u001b[38;5;28mint\u001b[39m(\u001b[38;5;28minput\u001b[39m(\u001b[38;5;124m'\u001b[39m\u001b[38;5;124mTap the number to be the maximun of the range.\u001b[39m\u001b[38;5;124m'\u001b[39m))\n\u001b[0;32m      6\u001b[0m random_integer\u001b[38;5;241m=\u001b[39mrandom\u001b[38;5;241m.\u001b[39mrandint(min_number,max_number)\n",
      "\u001b[1;31mTypeError\u001b[0m: 'str' object is not callable"
     ]
    }
   ],
   "source": [
    "### Bonus: make the user choose the range within which they have to guess\n",
    "\n",
    "import random\n",
    "min_number=int(input('Tap the number to be the minimum of the range.'))\n",
    "max_number=int(input('Tap the number to be the maximun of the range.'))\n",
    "random_integer=random.randint(min_number,max_number)\n",
    "\n",
    "print(f'So the range you want to guess is {min_number} to {max_number}.')\n",
    "\n",
    "Attempts_made=0\n",
    "number=int(input('Enter the number.'))\n",
    "\n",
    "while number!=random_integer:\n",
    "    print('Sorry,you can try it again.')\n",
    "    Attempts_made+=1\n",
    "    number=float(input('Enter the number again'))\n",
    "print('Congratulations')\n",
    "Attempts_made+=1\n",
    "print(f'And you have tried {Attempts_made} times.')"
   ]
  },
  {
   "cell_type": "code",
   "execution_count": 179,
   "id": "6fc7c694-fcd4-4a50-8c6d-fc72298d8256",
   "metadata": {},
   "outputs": [
    {
     "name": "stdout",
     "output_type": "stream",
     "text": [
      "a\n",
      "p\n",
      "p\n",
      "l\n",
      "e\n",
      "apple\n",
      "---------\n",
      "p\n",
      "e\n",
      "a\n",
      "r\n",
      "pear\n",
      "---------\n",
      "b\n",
      "a\n",
      "n\n",
      "a\n",
      "n\n",
      "a\n",
      "banana\n",
      "---------\n"
     ]
    }
   ],
   "source": [
    "for fruit in ['apple', 'pear', 'banana']:\n",
    "    for x in fruit:\n",
    "        print(x)\n",
    "    print(fruit)\n",
    "    print('---------')"
   ]
  },
  {
   "cell_type": "markdown",
   "id": "d53b9c07",
   "metadata": {},
   "source": [
    "-----------------------------------------------------------------------------\n",
    "# Exercise 08\n",
    "Ask a sentence as input, then print the words in alphabetical order.\n",
    "Hint: look up how to split up a string"
   ]
  },
  {
   "cell_type": "code",
   "execution_count": 195,
   "id": "b6524cf5",
   "metadata": {},
   "outputs": [
    {
     "name": "stdin",
     "output_type": "stream",
     "text": [
      "Enter a sentence you like. I want a boyfriend.\n"
     ]
    },
    {
     "name": "stdout",
     "output_type": "stream",
     "text": [
      "['I', 'a', 'boyfriend.', 'want']\n"
     ]
    }
   ],
   "source": [
    "\n",
    "sentence=input('Enter a sentence you like.')\n",
    "\n",
    "# 将句子分割成单词\n",
    "words=sentence.split()\n",
    "\n",
    "# 将单词按字母顺序排序\n",
    "words.sort()\n",
    "\n",
    "print(words)"
   ]
  },
  {
   "cell_type": "markdown",
   "id": "09a7b060",
   "metadata": {},
   "source": [
    "-----------------------------------------------------------------------------\n",
    "# Exercise 09\n",
    "Write a program using for loops to print a christmas tree of x lines high\n",
    "specified by the user.\n",
    "(use for loops)\n",
    "so for instance, a chrismas tree of 4 high should looks like this:\n",
    "\n",
    "```\n",
    "\n",
    "    *\n",
    "   ***\n",
    "  *****\n",
    " *******\n",
    "    |\n",
    "\n",
    "```\n",
    "\n",
    "hint: first combine strings into a variable before printing"
   ]
  },
  {
   "cell_type": "code",
   "execution_count": 202,
   "id": "5150f7a4",
   "metadata": {},
   "outputs": [
    {
     "name": "stdin",
     "output_type": "stream",
     "text": [
      "Enter the number of lines you want your christmas tree want to gernerate. 5\n"
     ]
    },
    {
     "ename": "TypeError",
     "evalue": "'float' object cannot be interpreted as an integer",
     "output_type": "error",
     "traceback": [
      "\u001b[1;31m---------------------------------------------------------------------------\u001b[0m",
      "\u001b[1;31mTypeError\u001b[0m                                 Traceback (most recent call last)",
      "Cell \u001b[1;32mIn[202], line 4\u001b[0m\n\u001b[0;32m      1\u001b[0m lines_number\u001b[38;5;241m=\u001b[39m\u001b[38;5;28mfloat\u001b[39m(\u001b[38;5;28minput\u001b[39m(\u001b[38;5;124m'\u001b[39m\u001b[38;5;124mEnter the number of lines you want your christmas tree want to gernerate.\u001b[39m\u001b[38;5;124m'\u001b[39m))\n\u001b[0;32m      3\u001b[0m \u001b[38;5;66;03m#使用一个循环来根据输入的数字生成对应数量的星号\u001b[39;00m\n\u001b[1;32m----> 4\u001b[0m \u001b[38;5;28;01mfor\u001b[39;00m a \u001b[38;5;129;01min\u001b[39;00m \u001b[38;5;28mrange\u001b[39m(\u001b[38;5;241m0\u001b[39m,lines_number\u001b[38;5;241m+\u001b[39m\u001b[38;5;241m1\u001b[39m): \u001b[38;5;66;03m# for函数for variable in\u001b[39;00m\n\u001b[0;32m      5\u001b[0m    \n\u001b[0;32m      6\u001b[0m     \u001b[38;5;66;03m# 计算空格和星号的数量\u001b[39;00m\n\u001b[0;32m      7\u001b[0m     stars\u001b[38;5;241m=\u001b[39m\u001b[38;5;124m'\u001b[39m\u001b[38;5;124m*\u001b[39m\u001b[38;5;124m'\u001b[39m\u001b[38;5;241m*\u001b[39m\u001b[38;5;241m2\u001b[39m\u001b[38;5;241m*\u001b[39mi\u001b[38;5;241m-\u001b[39m\u001b[38;5;241m1\u001b[39m\n\u001b[0;32m      8\u001b[0m     space\u001b[38;5;241m=\u001b[39m\u001b[38;5;124m'\u001b[39m\u001b[38;5;124m \u001b[39m\u001b[38;5;124m'\u001b[39m\u001b[38;5;241m*\u001b[39mlines_number\u001b[38;5;241m-\u001b[39mi\n",
      "\u001b[1;31mTypeError\u001b[0m: 'float' object cannot be interpreted as an integer"
     ]
    }
   ],
   "source": [
    "lines_number=int(input('Enter the number of lines you want your christmas tree want to gernerate.'))\n",
    "\n",
    "#使用一个循环来根据输入的数字生成对应数量的星号\n",
    "for i in range(1,lines_number+1): # for函数for variable in\n",
    "   \n",
    "    # 计算空格和星号的数量\n",
    "    stars='*'*(2*i-1)\n",
    "    space=' '*(lines_number-i)\n",
    "      \n",
    "    #lines_number 是用户输入的圣诞树的总行数\\\\\\i 是当前行数（从1开始）\\\\\\lines_number - i 计算出当前行需要前面的空格数量，以确保树形的对称性。\n",
    "    print(f'{space}{stars}')\n",
    "\n",
    "#生成树干\n",
    "space2=' '*(lines_number-1)\n",
    "bar='|'\n",
    "print(f'{space2}{bar}')"
   ]
  },
  {
   "cell_type": "markdown",
   "id": "07f67531",
   "metadata": {},
   "source": [
    "-----------------------------------------------------------------------------\n",
    "# Exercise 10\n",
    "Write a piece of code that prints the first $n$ numbers of the padovan sequence"
   ]
  },
  {
   "cell_type": "code",
   "execution_count": null,
   "id": "d301c61b",
   "metadata": {},
   "outputs": [],
   "source": [
    "#在 Python 中，def 是一个关键字，用于定义函数。函数是一段可重用的代码，用于执行特定的任务。使用 def 关键字可以创建一个新的函数，后跟函数名和括号中的参数列表"
   ]
  },
  {
   "cell_type": "code",
   "execution_count": null,
   "id": "bdc13c6a-4773-48b9-b4bf-88fda4957038",
   "metadata": {},
   "outputs": [],
   "source": [
    "def padovan_sequence(n) #padovan_sequenc是函数名\\\\\\n是参数\n",
    "\n",
    "# Initialize the first three numbers of the sequence\n",
    "padovan = [1, 1, 1]\n",
    "\n",
    "for i in range[3,n]:\n",
    "    next_value=padovan[i-2]+padovan[i-3]\n",
    "    padovan.append(next_value)#???\n",
    "return padovan[:n]\n",
    "\n",
    "# User input for the number of terms\n",
    "n = int(input(\"Enter the number of terms in the Padovan sequence: \"))\n",
    "print(padovan_sequence(n))\n"
   ]
  },
  {
   "cell_type": "code",
   "execution_count": null,
   "id": "e1d48bc2-b485-4b23-b01a-7996b05c5a72",
   "metadata": {},
   "outputs": [],
   "source": []
  },
  {
   "cell_type": "code",
   "execution_count": null,
   "id": "d3d597cf-bb5e-4308-8dcb-1acd44c7af6e",
   "metadata": {},
   "outputs": [],
   "source": []
  }
 ],
 "metadata": {
  "kernelspec": {
   "display_name": "Python 3 (ipykernel)",
   "language": "python",
   "name": "python3"
  },
  "language_info": {
   "codemirror_mode": {
    "name": "ipython",
    "version": 3
   },
   "file_extension": ".py",
   "mimetype": "text/x-python",
   "name": "python",
   "nbconvert_exporter": "python",
   "pygments_lexer": "ipython3",
   "version": "3.11.10"
  }
 },
 "nbformat": 4,
 "nbformat_minor": 5
}
